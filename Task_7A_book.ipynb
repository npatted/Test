{
 "cells": [
  {
   "cell_type": "markdown",
   "metadata": {},
   "source": [
    "# Create XML File."
   ]
  },
  {
   "cell_type": "code",
   "execution_count": 1,
   "metadata": {},
   "outputs": [],
   "source": [
    "import xml.etree.ElementTree as xml\n",
    "\n",
    "def createXML(filename):\n",
    "   # Start with the root element\n",
    "   root = xml.Element(\"Library\")\n",
    "   children1 = xml.Element(\"book\")\n",
    "   root.append(children1)\n",
    "    \n",
    "   Title = xml.SubElement(children1, \"Title\")\n",
    "   Title.text = \"Harry Potter\"\n",
    "\n",
    "   Author = xml.SubElement(children1, \"Author\")\n",
    "   Author.text = \"J K Rowling\"\n",
    "\n",
    "   Price = xml.SubElement(children1, \"Price\")\n",
    "   Price.text = \"2000\"\n",
    "\n",
    "   tree = xml.ElementTree(root)\n",
    "   with open(filename, \"wb\") as fh:\n",
    "        tree.write(fh)\n",
    "\n",
    "if __name__ == \"__main__\":\n",
    "   createXML(\"testXML.xml\") "
   ]
  },
  {
   "cell_type": "markdown",
   "metadata": {},
   "source": [
    "# Read XML File."
   ]
  },
  {
   "cell_type": "code",
   "execution_count": 2,
   "metadata": {},
   "outputs": [
    {
     "data": {
      "text/plain": [
       "'<Library><book><Title>Harry Potter</Title><Author>J K Rowling</Author><Price>2000</Price></book></Library>'"
      ]
     },
     "execution_count": 2,
     "metadata": {},
     "output_type": "execute_result"
    }
   ],
   "source": [
    "with open('testXML.xml', 'r') as f: \n",
    "    data = f.read() \n",
    "data"
   ]
  },
  {
   "cell_type": "markdown",
   "metadata": {},
   "source": [
    "# Parse XML File."
   ]
  },
  {
   "cell_type": "code",
   "execution_count": 3,
   "metadata": {},
   "outputs": [
    {
     "name": "stdout",
     "output_type": "stream",
     "text": [
      "Title=Harry Potter\n",
      "Author=J K Rowling\n",
      "Price=2000\n"
     ]
    }
   ],
   "source": [
    "import xml.etree.cElementTree as ET\n",
    "\n",
    "def parseXML(file_name):\n",
    "   # Parse XML with ElementTree\n",
    "   tree = ET.ElementTree(file=file_name).getroot()\n",
    "   \n",
    "\n",
    "   \n",
    "   for user in tree:\n",
    "      for user_child in user:\n",
    "         print(\"%s=%s\" % (user_child.tag, user_child.text))\n",
    "\n",
    "if __name__ == \"__main__\":\n",
    "   parseXML(\"testXML.xml\")"
   ]
  },
  {
   "cell_type": "markdown",
   "metadata": {},
   "source": [
    "# Modify XML File."
   ]
  },
  {
   "cell_type": "code",
   "execution_count": 4,
   "metadata": {},
   "outputs": [],
   "source": [
    "import xml.etree.ElementTree as ET\n",
    "\n",
    "def updateET(filename):\n",
    "   # Start with the root element\n",
    "   tree = ET.ElementTree(file=filename)\n",
    "   root = tree.getroot()\n",
    "\n",
    "   for price in root.iter('Price'):\n",
    "      price.text = '3000'\n",
    "\n",
    "   tree = ET.ElementTree(root)\n",
    "   with open(\"testXML.xml\", \"wb\") as fh:\n",
    "      tree.write(fh)\n",
    "\n",
    "if __name__ == \"__main__\":\n",
    "   updateET(\"testXML.xml\")"
   ]
  },
  {
   "cell_type": "code",
   "execution_count": 5,
   "metadata": {},
   "outputs": [
    {
     "data": {
      "text/plain": [
       "'<Library><book><Title>Harry Potter</Title><Author>J K Rowling</Author><Price>3000</Price></book></Library>'"
      ]
     },
     "execution_count": 5,
     "metadata": {},
     "output_type": "execute_result"
    }
   ],
   "source": [
    "with open('testXML.xml', 'r') as f: \n",
    "    data = f.read() \n",
    "data"
   ]
  },
  {
   "cell_type": "code",
   "execution_count": null,
   "metadata": {},
   "outputs": [],
   "source": []
  }
 ],
 "metadata": {
  "kernelspec": {
   "display_name": "Python 3",
   "language": "python",
   "name": "python3"
  },
  "language_info": {
   "codemirror_mode": {
    "name": "ipython",
    "version": 3
   },
   "file_extension": ".py",
   "mimetype": "text/x-python",
   "name": "python",
   "nbconvert_exporter": "python",
   "pygments_lexer": "ipython3",
   "version": "3.8.3"
  }
 },
 "nbformat": 4,
 "nbformat_minor": 4
}
